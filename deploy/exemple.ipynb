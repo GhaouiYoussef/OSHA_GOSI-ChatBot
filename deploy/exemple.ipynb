{
 "cells": [
  {
   "cell_type": "code",
   "execution_count": 2,
   "metadata": {},
   "outputs": [
    {
     "name": "stdout",
     "output_type": "stream",
     "text": [
      "Model API Key: None\n",
      "Model Name: None\n",
      "Hugging Face Token: None\n",
      "MongoDB URI: None\n",
      "Flask App: None\n",
      "Flask Environment: None\n",
      "Model Version: None\n",
      "Model Endpoint URL: None\n"
     ]
    }
   ],
   "source": [
    "from dotenv import load_dotenv\n",
    "import os\n",
    "\n",
    "# Load variables from .env file\n",
    "load_dotenv()\n",
    "\n",
    "# Print out environment variables\n",
    "print(\"Model API Key:\", os.getenv(\"MODEL_API_KEY\"))\n",
    "print(\"Model Name:\", os.getenv(\"MODEL_NAME\"))\n",
    "print(\"Hugging Face Token:\", os.getenv(\"HF_TOKEN\"))\n",
    "print(\"MongoDB URI:\", os.getenv(\"MONGODB_URI\"))\n",
    "print(\"Flask App:\", os.getenv(\"FLASK_APP\"))\n",
    "print(\"Flask Environment:\", os.getenv(\"FLASK_ENV\"))\n",
    "print(\"Model Version:\", os.getenv(\"MODEL_VERSION\"))\n",
    "print(\"Model Endpoint URL:\", os.getenv(\"Reg_Agent_Prompt\"))\n"
   ]
  },
  {
   "cell_type": "code",
   "execution_count": 7,
   "metadata": {},
   "outputs": [
    {
     "name": "stderr",
     "output_type": "stream",
     "text": [
      "'ls' is not recognized as an internal or external command,\n",
      "operable program or batch file.\n"
     ]
    }
   ],
   "source": [
    "!ls\n",
    "\n"
   ]
  },
  {
   "cell_type": "code",
   "execution_count": null,
   "metadata": {},
   "outputs": [],
   "source": []
  }
 ],
 "metadata": {
  "kernelspec": {
   "display_name": "NewBasePy312",
   "language": "python",
   "name": "python3"
  },
  "language_info": {
   "codemirror_mode": {
    "name": "ipython",
    "version": 3
   },
   "file_extension": ".py",
   "mimetype": "text/x-python",
   "name": "python",
   "nbconvert_exporter": "python",
   "pygments_lexer": "ipython3",
   "version": "3.12.2"
  }
 },
 "nbformat": 4,
 "nbformat_minor": 2
}
